{
 "cells": [
  {
   "cell_type": "code",
   "execution_count": 1,
   "metadata": {
    "collapsed": false
   },
   "outputs": [
    {
     "name": "stderr",
     "output_type": "stream",
     "text": [
      "Using TensorFlow backend.\n"
     ]
    }
   ],
   "source": [
    "%matplotlib inline\n",
    "\n",
    "import os\n",
    "\n",
    "# let's not pollute this blog post with warnings\n",
    "from warnings import filterwarnings\n",
    "filterwarnings('ignore')\n",
    "\n",
    "import keras\n",
    "import numpy as np\n",
    "import pandas as pd\n",
    "import skvideo.io as skv\n",
    "from tqdm import tqdm"
   ]
  },
  {
   "cell_type": "code",
   "execution_count": 2,
   "metadata": {
    "collapsed": false
   },
   "outputs": [],
   "source": [
    "# load the data\n",
    "run = '-VGG-micro'\n",
    "labelpath = os.path.join('train_labels.csv')\n",
    "train_labels = pd.read_csv(labelpath, index_col='filename')"
   ]
  },
  {
   "cell_type": "code",
   "execution_count": 3,
   "metadata": {
    "collapsed": false
   },
   "outputs": [
    {
     "data": {
      "text/html": [
       "<div>\n",
       "<style scoped>\n",
       "    .dataframe tbody tr th:only-of-type {\n",
       "        vertical-align: middle;\n",
       "    }\n",
       "\n",
       "    .dataframe tbody tr th {\n",
       "        vertical-align: top;\n",
       "    }\n",
       "\n",
       "    .dataframe thead th {\n",
       "        text-align: right;\n",
       "    }\n",
       "</style>\n",
       "<table border=\"1\" class=\"dataframe\">\n",
       "  <thead>\n",
       "    <tr style=\"text-align: right;\">\n",
       "      <th></th>\n",
       "      <th>bird</th>\n",
       "      <th>blank</th>\n",
       "      <th>cattle</th>\n",
       "      <th>chimpanzee</th>\n",
       "      <th>elephant</th>\n",
       "      <th>forest buffalo</th>\n",
       "      <th>gorilla</th>\n",
       "      <th>hippopotamus</th>\n",
       "      <th>human</th>\n",
       "      <th>hyena</th>\n",
       "      <th>...</th>\n",
       "      <th>other (primate)</th>\n",
       "      <th>pangolin</th>\n",
       "      <th>porcupine</th>\n",
       "      <th>reptile</th>\n",
       "      <th>rodent</th>\n",
       "      <th>small antelope</th>\n",
       "      <th>small cat</th>\n",
       "      <th>wild dog</th>\n",
       "      <th>duiker</th>\n",
       "      <th>hog</th>\n",
       "    </tr>\n",
       "    <tr>\n",
       "      <th>filename</th>\n",
       "      <th></th>\n",
       "      <th></th>\n",
       "      <th></th>\n",
       "      <th></th>\n",
       "      <th></th>\n",
       "      <th></th>\n",
       "      <th></th>\n",
       "      <th></th>\n",
       "      <th></th>\n",
       "      <th></th>\n",
       "      <th></th>\n",
       "      <th></th>\n",
       "      <th></th>\n",
       "      <th></th>\n",
       "      <th></th>\n",
       "      <th></th>\n",
       "      <th></th>\n",
       "      <th></th>\n",
       "      <th></th>\n",
       "      <th></th>\n",
       "      <th></th>\n",
       "    </tr>\n",
       "  </thead>\n",
       "  <tbody>\n",
       "    <tr>\n",
       "      <th>000libDc84.mp4</th>\n",
       "      <td>0.0</td>\n",
       "      <td>1.0</td>\n",
       "      <td>0.0</td>\n",
       "      <td>0.0</td>\n",
       "      <td>0.0</td>\n",
       "      <td>0.0</td>\n",
       "      <td>0.0</td>\n",
       "      <td>0.0</td>\n",
       "      <td>0.0</td>\n",
       "      <td>0.0</td>\n",
       "      <td>...</td>\n",
       "      <td>0.0</td>\n",
       "      <td>0.0</td>\n",
       "      <td>0.0</td>\n",
       "      <td>0.0</td>\n",
       "      <td>0.0</td>\n",
       "      <td>0.0</td>\n",
       "      <td>0.0</td>\n",
       "      <td>0.0</td>\n",
       "      <td>0.0</td>\n",
       "      <td>0.0</td>\n",
       "    </tr>\n",
       "    <tr>\n",
       "      <th>003TeGtbkD.mp4</th>\n",
       "      <td>0.0</td>\n",
       "      <td>1.0</td>\n",
       "      <td>0.0</td>\n",
       "      <td>0.0</td>\n",
       "      <td>0.0</td>\n",
       "      <td>0.0</td>\n",
       "      <td>0.0</td>\n",
       "      <td>0.0</td>\n",
       "      <td>0.0</td>\n",
       "      <td>0.0</td>\n",
       "      <td>...</td>\n",
       "      <td>0.0</td>\n",
       "      <td>0.0</td>\n",
       "      <td>0.0</td>\n",
       "      <td>0.0</td>\n",
       "      <td>0.0</td>\n",
       "      <td>0.0</td>\n",
       "      <td>0.0</td>\n",
       "      <td>0.0</td>\n",
       "      <td>0.0</td>\n",
       "      <td>0.0</td>\n",
       "    </tr>\n",
       "    <tr>\n",
       "      <th>006jFoesFi.mp4</th>\n",
       "      <td>0.0</td>\n",
       "      <td>0.0</td>\n",
       "      <td>0.0</td>\n",
       "      <td>0.0</td>\n",
       "      <td>0.0</td>\n",
       "      <td>0.0</td>\n",
       "      <td>0.0</td>\n",
       "      <td>0.0</td>\n",
       "      <td>0.0</td>\n",
       "      <td>0.0</td>\n",
       "      <td>...</td>\n",
       "      <td>0.0</td>\n",
       "      <td>0.0</td>\n",
       "      <td>0.0</td>\n",
       "      <td>0.0</td>\n",
       "      <td>0.0</td>\n",
       "      <td>0.0</td>\n",
       "      <td>0.0</td>\n",
       "      <td>0.0</td>\n",
       "      <td>1.0</td>\n",
       "      <td>0.0</td>\n",
       "    </tr>\n",
       "    <tr>\n",
       "      <th>008uxqP8IN.mp4</th>\n",
       "      <td>0.0</td>\n",
       "      <td>0.0</td>\n",
       "      <td>0.0</td>\n",
       "      <td>0.0</td>\n",
       "      <td>0.0</td>\n",
       "      <td>0.0</td>\n",
       "      <td>0.0</td>\n",
       "      <td>0.0</td>\n",
       "      <td>0.0</td>\n",
       "      <td>0.0</td>\n",
       "      <td>...</td>\n",
       "      <td>0.0</td>\n",
       "      <td>0.0</td>\n",
       "      <td>0.0</td>\n",
       "      <td>0.0</td>\n",
       "      <td>0.0</td>\n",
       "      <td>0.0</td>\n",
       "      <td>0.0</td>\n",
       "      <td>0.0</td>\n",
       "      <td>0.0</td>\n",
       "      <td>1.0</td>\n",
       "    </tr>\n",
       "    <tr>\n",
       "      <th>0094UxdyyZ.mp4</th>\n",
       "      <td>0.0</td>\n",
       "      <td>0.0</td>\n",
       "      <td>0.0</td>\n",
       "      <td>0.0</td>\n",
       "      <td>0.0</td>\n",
       "      <td>0.0</td>\n",
       "      <td>0.0</td>\n",
       "      <td>0.0</td>\n",
       "      <td>0.0</td>\n",
       "      <td>0.0</td>\n",
       "      <td>...</td>\n",
       "      <td>1.0</td>\n",
       "      <td>0.0</td>\n",
       "      <td>0.0</td>\n",
       "      <td>0.0</td>\n",
       "      <td>0.0</td>\n",
       "      <td>0.0</td>\n",
       "      <td>0.0</td>\n",
       "      <td>0.0</td>\n",
       "      <td>0.0</td>\n",
       "      <td>0.0</td>\n",
       "    </tr>\n",
       "  </tbody>\n",
       "</table>\n",
       "<p>5 rows × 24 columns</p>\n",
       "</div>"
      ],
      "text/plain": [
       "                bird  blank  cattle  chimpanzee  elephant  forest buffalo  \\\n",
       "filename                                                                    \n",
       "000libDc84.mp4   0.0    1.0     0.0         0.0       0.0             0.0   \n",
       "003TeGtbkD.mp4   0.0    1.0     0.0         0.0       0.0             0.0   \n",
       "006jFoesFi.mp4   0.0    0.0     0.0         0.0       0.0             0.0   \n",
       "008uxqP8IN.mp4   0.0    0.0     0.0         0.0       0.0             0.0   \n",
       "0094UxdyyZ.mp4   0.0    0.0     0.0         0.0       0.0             0.0   \n",
       "\n",
       "                gorilla  hippopotamus  human  hyena ...   other (primate)  \\\n",
       "filename                                            ...                     \n",
       "000libDc84.mp4      0.0           0.0    0.0    0.0 ...               0.0   \n",
       "003TeGtbkD.mp4      0.0           0.0    0.0    0.0 ...               0.0   \n",
       "006jFoesFi.mp4      0.0           0.0    0.0    0.0 ...               0.0   \n",
       "008uxqP8IN.mp4      0.0           0.0    0.0    0.0 ...               0.0   \n",
       "0094UxdyyZ.mp4      0.0           0.0    0.0    0.0 ...               1.0   \n",
       "\n",
       "                pangolin  porcupine  reptile  rodent  small antelope  \\\n",
       "filename                                                               \n",
       "000libDc84.mp4       0.0        0.0      0.0     0.0             0.0   \n",
       "003TeGtbkD.mp4       0.0        0.0      0.0     0.0             0.0   \n",
       "006jFoesFi.mp4       0.0        0.0      0.0     0.0             0.0   \n",
       "008uxqP8IN.mp4       0.0        0.0      0.0     0.0             0.0   \n",
       "0094UxdyyZ.mp4       0.0        0.0      0.0     0.0             0.0   \n",
       "\n",
       "                small cat  wild dog  duiker  hog  \n",
       "filename                                          \n",
       "000libDc84.mp4        0.0       0.0     0.0  0.0  \n",
       "003TeGtbkD.mp4        0.0       0.0     0.0  0.0  \n",
       "006jFoesFi.mp4        0.0       0.0     1.0  0.0  \n",
       "008uxqP8IN.mp4        0.0       0.0     0.0  1.0  \n",
       "0094UxdyyZ.mp4        0.0       0.0     0.0  0.0  \n",
       "\n",
       "[5 rows x 24 columns]"
      ]
     },
     "execution_count": 3,
     "metadata": {},
     "output_type": "execute_result"
    }
   ],
   "source": [
    "train_labels.head()"
   ]
  },
  {
   "cell_type": "code",
   "execution_count": 4,
   "metadata": {
    "collapsed": false
   },
   "outputs": [
    {
     "name": "stdout",
     "output_type": "stream",
     "text": [
      "<class 'pandas.core.frame.DataFrame'>\n",
      "Index: 204130 entries, 000libDc84.mp4 to zzzu2lK8bC.mp4\n",
      "Data columns (total 24 columns):\n",
      "bird                   204130 non-null float64\n",
      "blank                  204130 non-null float64\n",
      "cattle                 204130 non-null float64\n",
      "chimpanzee             204130 non-null float64\n",
      "elephant               204130 non-null float64\n",
      "forest buffalo         204130 non-null float64\n",
      "gorilla                204130 non-null float64\n",
      "hippopotamus           204130 non-null float64\n",
      "human                  204130 non-null float64\n",
      "hyena                  204130 non-null float64\n",
      "large ungulate         204130 non-null float64\n",
      "leopard                204130 non-null float64\n",
      "lion                   204130 non-null float64\n",
      "other (non-primate)    204130 non-null float64\n",
      "other (primate)        204130 non-null float64\n",
      "pangolin               204130 non-null float64\n",
      "porcupine              204130 non-null float64\n",
      "reptile                204130 non-null float64\n",
      "rodent                 204130 non-null float64\n",
      "small antelope         204130 non-null float64\n",
      "small cat              204130 non-null float64\n",
      "wild dog               204130 non-null float64\n",
      "duiker                 204130 non-null float64\n",
      "hog                    204130 non-null float64\n",
      "dtypes: float64(24)\n",
      "memory usage: 38.9+ MB\n"
     ]
    }
   ],
   "source": [
    "train_labels.info()"
   ]
  },
  {
   "cell_type": "code",
   "execution_count": 5,
   "metadata": {
    "collapsed": false
   },
   "outputs": [
    {
     "data": {
      "text/plain": [
       "blank                  122270.0\n",
       "duiker                  21601.0\n",
       "other (primate)         20453.0\n",
       "human                   20034.0\n",
       "chimpanzee               5045.0\n",
       "hog                      4650.0\n",
       "rodent                   2911.0\n",
       "bird                     2386.0\n",
       "other (non-primate)      1883.0\n",
       "elephant                 1085.0\n",
       "porcupine                 569.0\n",
       "cattle                    372.0\n",
       "small antelope            273.0\n",
       "large ungulate            224.0\n",
       "leopard                   209.0\n",
       "hippopotamus              175.0\n",
       "gorilla                   174.0\n",
       "small cat                  79.0\n",
       "pangolin                   63.0\n",
       "wild dog                   21.0\n",
       "hyena                      10.0\n",
       "forest buffalo              9.0\n",
       "reptile                     8.0\n",
       "lion                        2.0\n",
       "dtype: float64"
      ]
     },
     "execution_count": 5,
     "metadata": {},
     "output_type": "execute_result"
    }
   ],
   "source": [
    "train_labels.sum(axis=0).sort_values(ascending=False)"
   ]
  },
  {
   "cell_type": "code",
   "execution_count": 6,
   "metadata": {
    "collapsed": false
   },
   "outputs": [
    {
     "data": {
      "text/plain": [
       "374"
      ]
     },
     "execution_count": 6,
     "metadata": {},
     "output_type": "execute_result"
    }
   ],
   "source": [
    "(train_labels.sum(axis=1) > 1).sum()"
   ]
  },
  {
   "cell_type": "code",
   "execution_count": null,
   "metadata": {
    "collapsed": false
   },
   "outputs": [],
   "source": [
    "from primatrix_dataset_utils import Dataset"
   ]
  },
  {
   "cell_type": "code",
   "execution_count": null,
   "metadata": {
    "collapsed": false
   },
   "outputs": [],
   "source": [
    "datapath = os.path.join('.')\n",
    "whichset = run.split('-')[-1]\n",
    "redframes = whichset == 'nano'\n",
    "data = Dataset(datapath=datapath, \n",
    "               dataset_type=whichset,\n",
    "               reduce_frames=redframes, \n",
    "               batch_size=32, \n",
    "               test=False)"
   ]
  },
  {
   "cell_type": "code",
   "execution_count": null,
   "metadata": {
    "collapsed": false
   },
   "outputs": [],
   "source": [
    "data.num_classes"
   ]
  },
  {
   "cell_type": "code",
   "execution_count": null,
   "metadata": {
    "collapsed": false
   },
   "outputs": [],
   "source": [
    "data.num_frames"
   ]
  },
  {
   "cell_type": "code",
   "execution_count": null,
   "metadata": {
    "collapsed": false
   },
   "outputs": [],
   "source": [
    "data.batch_size"
   ]
  },
  {
   "cell_type": "code",
   "execution_count": null,
   "metadata": {
    "collapsed": false
   },
   "outputs": [],
   "source": [
    "data.num_samples"
   ]
  },
  {
   "cell_type": "code",
   "execution_count": null,
   "metadata": {
    "collapsed": false
   },
   "outputs": [],
   "source": [
    "data.y_train.shape[0]"
   ]
  },
  {
   "cell_type": "code",
   "execution_count": null,
   "metadata": {
    "collapsed": false
   },
   "outputs": [],
   "source": [
    "data.y_val.shape[0]"
   ]
  },
  {
   "cell_type": "code",
   "execution_count": null,
   "metadata": {
    "collapsed": false
   },
   "outputs": [],
   "source": [
    "from tensorflow.python.client import device_lib\n",
    "\n",
    "def get_available_gpus():\n",
    "    local_device_protos = device_lib.list_local_devices()\n",
    "    return [x.name for x in local_device_protos if x.device_type == 'GPU']\n",
    "\n",
    "print(get_available_gpus())"
   ]
  },
  {
   "cell_type": "code",
   "execution_count": null,
   "metadata": {
    "collapsed": false
   },
   "outputs": [],
   "source": [
    "from keras.models import Sequential\n",
    "from keras.layers import TimeDistributed, GlobalAveragePooling2D, Activation, Dense, Input\n",
    "from keras.layers import BatchNormalization, Conv2D, MaxPooling2D, AveragePooling2D, GlobalAveragePooling2D\n",
    "from keras.layers import GlobalMaxPooling2D\n",
    "from keras.layers.recurrent import LSTM\n",
    "from keras.callbacks import ModelCheckpoint, ReduceLROnPlateau\n",
    "from keras.layers import Dropout, Flatten\n",
    "from keras.layers import concatenate\n",
    "from keras import regularizers\n",
    "from keras import initializers\n",
    "from keras import constraints\n",
    "from keras.models import Model\n",
    "# Backend\n",
    "from keras import backend as K\n",
    "# Utils\n",
    "from keras.utils.layer_utils import convert_all_kernels_in_model\n",
    "from keras.utils.data_utils import get_file\n",
    "\n",
    "def Conv2D_bn(x,\n",
    "              filters,\n",
    "              filter_size,\n",
    "              padding='same',\n",
    "              strides=(1, 1),\n",
    "              name=None,\n",
    "             activation='relu'):\n",
    "    num_row, num_col = filter_size\n",
    "    if name is not None:\n",
    "        bn_name = name + '_bn'\n",
    "        conv_name = name + '_conv'\n",
    "    else:\n",
    "        bn_name = None\n",
    "        conv_name = None\n",
    "    bn_axis = -1\n",
    "    x = TimeDistributed(Conv2D(\n",
    "        filters, (num_row, num_col),\n",
    "        strides=strides,\n",
    "        padding=padding,\n",
    "        use_bias=False,\n",
    "        name=conv_name,\n",
    "        kernel_initializer=initializers.he_normal()))(x)\n",
    "    x = TimeDistributed(BatchNormalization(axis=bn_axis, scale=False, name=bn_name))(x)\n",
    "    x = TimeDistributed(Activation('relu', name=name))(x)\n",
    "    return x\n",
    "\n",
    "\n",
    "def VGG19(include_top=True,\n",
    "                input_tensor=None,\n",
    "                input_shape=None,\n",
    "                pooling=None,\n",
    "                classes=24):\n",
    "    channel_axis = -1\n",
    "    inputs = Input((data.num_frames, data.width, data.height, 3))\n",
    "    x = BatchNormalization(axis=-1)(inputs)\n",
    "    \n",
    "    x = Conv2D_bn(x, 32, (3, 3), activation='relu', padding='same', name='block1_conv1')\n",
    "    x = Conv2D_bn(x, 32, (3, 3), activation='relu', padding='same', name='block1_conv2')\n",
    "    x = TimeDistributed(MaxPooling2D((2, 2), strides=(2, 2), name='block1_pool'))(x)\n",
    "\n",
    "    # Block 2\n",
    "    x = Conv2D_bn(x, 64, (3, 3), activation='relu', padding='same', name='block2_conv1')\n",
    "    x = Conv2D_bn(x, 64, (3, 3), activation='relu', padding='same', name='block2_conv2')\n",
    "    x = TimeDistributed(MaxPooling2D((2, 2), strides=(2, 2), name='block2_pool'))(x)\n",
    "\n",
    "    # Block 3\n",
    "    x = Conv2D_bn(x, 128, (3, 3), activation='relu', padding='same', name='block3_conv1')\n",
    "    x = Conv2D_bn(x, 128, (3, 3), activation='relu', padding='same', name='block3_conv2')\n",
    "    x = Conv2D_bn(x, 128, (3, 3), activation='relu', padding='same', name='block3_conv3')\n",
    "    x = Conv2D_bn(x, 128, (3, 3), activation='relu', padding='same', name='block3_conv4')\n",
    "    x = TimeDistributed(MaxPooling2D((2, 2), strides=(2, 2), name='block3_pool'))(x)\n",
    "\n",
    "    # Block 4\n",
    "    x = Conv2D_bn(x, 256, (3, 3), activation='relu', padding='same', name='block4_conv1')\n",
    "    x = Conv2D_bn(x, 256, (3, 3), activation='relu', padding='same', name='block4_conv2')\n",
    "    x = Conv2D_bn(x, 256, (3, 3), activation='relu', padding='same', name='block4_conv3')\n",
    "    x = Conv2D_bn(x, 256, (3, 3), activation='relu', padding='same', name='block4_conv4')\n",
    "    x = TimeDistributed(MaxPooling2D((2, 2), strides=(2, 2), name='block4_pool'))(x)\n",
    "\n",
    "    # Block 5\n",
    "    x = Conv2D_bn(x, 512, (3, 3), activation='relu', padding='same', name='block5_conv1')\n",
    "    x = Conv2D_bn(x, 512, (3, 3), activation='relu', padding='same', name='block5_conv2')\n",
    "    x = Conv2D_bn(x, 512, (3, 3), activation='relu', padding='same', name='block5_conv3')\n",
    "    x = Conv2D_bn(x, 512, (3, 3), activation='relu', padding='same', name='block5_conv4')\n",
    "    x = TimeDistributed(MaxPooling2D((2, 2), strides=(2, 2), name='block5_pool'))(x)\n",
    "\n",
    "    if include_top:\n",
    "        # Classification block\n",
    "        x = TimeDistributed(Flatten(name='flatten'))(x)\n",
    "        x = TimeDistributed(Dense(4096, activation='relu', name='fc1'))(x)\n",
    "        x = TimeDistributed(Dense(4096, activation='relu', name='fc2'))(x)   \n",
    "        x = LSTM(256, return_sequences=False)(x)\n",
    "        x = Dense(classes, activation='softmax', name='predictions')(x)\n",
    "\n",
    "    model = Model(inputs, x, name='vgg16')\n",
    "\n",
    "    # load weights\n",
    "    return model"
   ]
  },
  {
   "cell_type": "code",
   "execution_count": null,
   "metadata": {
    "collapsed": false,
    "scrolled": true
   },
   "outputs": [],
   "source": [
    "# instantiate model\n",
    "model = VGG19()\n",
    "\n",
    "\n",
    "# classifier with sigmoid activation for multilabel\n",
    "\n",
    "adam = keras.optimizers.Adam(lr=0.001, decay=0.0, clipnorm=5.)\n",
    "reduce_lr = ReduceLROnPlateau(monitor='val_loss', factor=0.1,\n",
    "                              patience=20, min_lr=0.00001, verbose=True)\n",
    "\n",
    "\n",
    "# compile the model with binary_crossentropy loss for multilabel\n",
    "model.compile(optimizer=adam, loss='binary_crossentropy')\n",
    "\n",
    "model_name = 'model' + run + '.h5'\n",
    "checkpoint = ModelCheckpoint(model_name, monitor='val_loss', verbose=1, save_best_only=True, mode='min')\n",
    "\n",
    "callbacks_list = [checkpoint, reduce_lr]\n",
    "\n",
    "\n",
    "# look at the params before training\n",
    "model.summary()"
   ]
  },
  {
   "cell_type": "code",
   "execution_count": null,
   "metadata": {
    "collapsed": false
   },
   "outputs": [],
   "source": [
    "model.fit_generator(\n",
    "    data.batches(), \n",
    "    steps_per_epoch=int(data.num_batches/20),                  # data.num_batches to train on full set \n",
    "    epochs=6000, \n",
    "    validation_data=data.val_batches(), \n",
    "    validation_steps=int(data.num_val_batches/20),                  # data.num_val_batches to validate on full set\n",
    "    callbacks=callbacks_list\n",
    ")"
   ]
  },
  {
   "cell_type": "code",
   "execution_count": null,
   "metadata": {
    "collapsed": false
   },
   "outputs": [],
   "source": [
    "# load model\n",
    "from keras.models import load_model\n",
    "\n",
    "trained_model = load_model(model_name)\n",
    "\n",
    "# generate predictions\n",
    "for batch_num in tqdm(range(data.num_test_batches), total=data.num_test_batches):\n",
    "\n",
    "    # make predictions on batch\n",
    "    results = trained_model.predict(next(data.test_batches()), \n",
    "                                          batch_size=data.batch_size, \n",
    "                                          verbose=0)\n",
    "\n",
    "    # update submission format dataframe stored in dataset object\n",
    "    data.update_predictions(results)          \n",
    "    "
   ]
  },
  {
   "cell_type": "code",
   "execution_count": null,
   "metadata": {
    "collapsed": true
   },
   "outputs": [],
   "source": []
  },
  {
   "cell_type": "code",
   "execution_count": null,
   "metadata": {
    "collapsed": true
   },
   "outputs": [],
   "source": [
    "data.predictions.to_csv(os.path.join(data.datapath, 'predictions' + run + '.csv'))"
   ]
  },
  {
   "cell_type": "code",
   "execution_count": null,
   "metadata": {
    "collapsed": true
   },
   "outputs": [],
   "source": [
    "    "
   ]
  }
 ],
 "metadata": {
  "kernelspec": {
   "display_name": "Python 3",
   "language": "python",
   "name": "python3"
  },
  "language_info": {
   "codemirror_mode": {
    "name": "ipython",
    "version": 3
   },
   "file_extension": ".py",
   "mimetype": "text/x-python",
   "name": "python",
   "nbconvert_exporter": "python",
   "pygments_lexer": "ipython3",
   "version": "3.5.2"
  }
 },
 "nbformat": 4,
 "nbformat_minor": 0
}
